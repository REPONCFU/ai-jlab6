{
 "cells": [
  {
   "cell_type": "markdown",
   "id": "bf6b3c95-313a-4b43-aa9a-85ee49336193",
   "metadata": {},
   "source": [
    "# 1. Обзор структуры данных"
   ]
  },
  {
   "cell_type": "code",
   "execution_count": 29,
   "id": "b15a9099-248c-48ac-a2dd-b195ddb0fadf",
   "metadata": {},
   "outputs": [],
   "source": [
    "import pandas as pd\n",
    "\n",
    "column_names = [\n",
    "    \"age\", \"workclass\", \"fnlwgt\", \"education\", \"education-num\",\n",
    "    \"marital-status\", \"occupation\", \"relationship\", \"race\", \"sex\",\n",
    "    \"capital-gain\", \"capital-loss\", \"hours-per-week\", \"native-country\", \"income\"\n",
    "]\n",
    "\n",
    "df = pd.read_csv(\"adult.data.csv\", header=None, names=column_names, na_values=\" ?\", skipinitialspace=True)"
   ]
  },
  {
   "cell_type": "code",
   "execution_count": 30,
   "id": "b5d101db-5425-4768-9421-d90602272a79",
   "metadata": {},
   "outputs": [
    {
     "name": "stdout",
     "output_type": "stream",
     "text": [
      "<class 'pandas.core.frame.DataFrame'>\n",
      "RangeIndex: 32561 entries, 0 to 32560\n",
      "Data columns (total 15 columns):\n",
      " #   Column          Non-Null Count  Dtype \n",
      "---  ------          --------------  ----- \n",
      " 0   age             32561 non-null  int64 \n",
      " 1   workclass       32561 non-null  object\n",
      " 2   fnlwgt          32561 non-null  int64 \n",
      " 3   education       32561 non-null  object\n",
      " 4   education-num   32561 non-null  int64 \n",
      " 5   marital-status  32561 non-null  object\n",
      " 6   occupation      32561 non-null  object\n",
      " 7   relationship    32561 non-null  object\n",
      " 8   race            32561 non-null  object\n",
      " 9   sex             32561 non-null  object\n",
      " 10  capital-gain    32561 non-null  int64 \n",
      " 11  capital-loss    32561 non-null  int64 \n",
      " 12  hours-per-week  32561 non-null  int64 \n",
      " 13  native-country  32561 non-null  object\n",
      " 14  income          32561 non-null  object\n",
      "dtypes: int64(6), object(9)\n",
      "memory usage: 3.7+ MB\n",
      "None\n",
      "                 age workclass        fnlwgt education  education-num  \\\n",
      "count   32561.000000     32561  3.256100e+04     32561   32561.000000   \n",
      "unique           NaN         9           NaN        16            NaN   \n",
      "top              NaN   Private           NaN   HS-grad            NaN   \n",
      "freq             NaN     22696           NaN     10501            NaN   \n",
      "mean       38.581647       NaN  1.897784e+05       NaN      10.080679   \n",
      "std        13.640433       NaN  1.055500e+05       NaN       2.572720   \n",
      "min        17.000000       NaN  1.228500e+04       NaN       1.000000   \n",
      "25%        28.000000       NaN  1.178270e+05       NaN       9.000000   \n",
      "50%        37.000000       NaN  1.783560e+05       NaN      10.000000   \n",
      "75%        48.000000       NaN  2.370510e+05       NaN      12.000000   \n",
      "max        90.000000       NaN  1.484705e+06       NaN      16.000000   \n",
      "\n",
      "            marital-status      occupation relationship   race    sex  \\\n",
      "count                32561           32561        32561  32561  32561   \n",
      "unique                   7              15            6      5      2   \n",
      "top     Married-civ-spouse  Prof-specialty      Husband  White   Male   \n",
      "freq                 14976            4140        13193  27816  21790   \n",
      "mean                   NaN             NaN          NaN    NaN    NaN   \n",
      "std                    NaN             NaN          NaN    NaN    NaN   \n",
      "min                    NaN             NaN          NaN    NaN    NaN   \n",
      "25%                    NaN             NaN          NaN    NaN    NaN   \n",
      "50%                    NaN             NaN          NaN    NaN    NaN   \n",
      "75%                    NaN             NaN          NaN    NaN    NaN   \n",
      "max                    NaN             NaN          NaN    NaN    NaN   \n",
      "\n",
      "        capital-gain  capital-loss  hours-per-week native-country income  \n",
      "count   32561.000000  32561.000000    32561.000000          32561  32561  \n",
      "unique           NaN           NaN             NaN             42      2  \n",
      "top              NaN           NaN             NaN  United-States  <=50K  \n",
      "freq             NaN           NaN             NaN          29170  24720  \n",
      "mean     1077.648844     87.303830       40.437456            NaN    NaN  \n",
      "std      7385.292085    402.960219       12.347429            NaN    NaN  \n",
      "min         0.000000      0.000000        1.000000            NaN    NaN  \n",
      "25%         0.000000      0.000000       40.000000            NaN    NaN  \n",
      "50%         0.000000      0.000000       40.000000            NaN    NaN  \n",
      "75%         0.000000      0.000000       45.000000            NaN    NaN  \n",
      "max     99999.000000   4356.000000       99.000000            NaN    NaN  \n"
     ]
    }
   ],
   "source": [
    "print(df.info())\n",
    "print(df.describe(include=\"all\"))"
   ]
  },
  {
   "cell_type": "markdown",
   "id": "f814a50a-e41e-4a6e-b52c-a67d01e8c5a1",
   "metadata": {},
   "source": [
    "# 2. Обработка пропущенных значений"
   ]
  },
  {
   "cell_type": "code",
   "execution_count": 31,
   "id": "ade0b164-0474-48ed-9ad0-3f230b6a4e66",
   "metadata": {},
   "outputs": [],
   "source": [
    "for column in [\"workclass\", \"occupation\", \"native-country\"]:\n",
    "    mode_value = df[column].mode()[0]\n",
    "    df[column] = df[column].fillna(mode_value)"
   ]
  },
  {
   "cell_type": "markdown",
   "id": "45773aa1-546d-4ad9-981e-20425356283b",
   "metadata": {},
   "source": [
    "# 3. Обнаружение и удаление выбросов"
   ]
  },
  {
   "cell_type": "code",
   "execution_count": 33,
   "id": "10424652-03c9-4759-97a1-74a7fcb0a996",
   "metadata": {},
   "outputs": [],
   "source": [
    "for column in [\"age\", \"hours-per-week\"]:\n",
    "    Q1 = df[column].quantile(0.25)\n",
    "    Q3 = df[column].quantile(0.75)\n",
    "    IQR = Q3 - Q1\n",
    "    lower_bound = Q1 - 1.5 * IQR\n",
    "    upper_bound = Q3 + 1.5 * IQR\n",
    "    df = df[(df[column] >= lower_bound) & (df[column] <= upper_bound)]\n"
   ]
  },
  {
   "cell_type": "markdown",
   "id": "49ce300d-0ffd-4187-8d61-65fd3d4b36b1",
   "metadata": {},
   "source": [
    "# 4. Масштабирование числовых признаков"
   ]
  },
  {
   "cell_type": "code",
   "execution_count": 34,
   "id": "4ca9fc83-977e-4454-8e43-9bcd1efdd9e9",
   "metadata": {},
   "outputs": [],
   "source": [
    "for column in [\"age\", \"education-num\", \"hours-per-week\"]:\n",
    "    mean = df[column].mean()\n",
    "    std = df[column].std()\n",
    "    df[column] = (df[column] - mean) / std"
   ]
  },
  {
   "cell_type": "markdown",
   "id": "a0c90b0c-8c84-4c56-a52c-0acc14ca8eb7",
   "metadata": {},
   "source": [
    "# 5. Кодирование категориальных признаков"
   ]
  },
  {
   "cell_type": "code",
   "execution_count": 35,
   "id": "eefa3fe1-881f-4a59-8248-cc805063e4e3",
   "metadata": {},
   "outputs": [],
   "source": [
    "education_order = {\n",
    "    \"Preschool\": 0,\n",
    "    \"1st-4th\": 1,\n",
    "    \"5th-6th\": 2,\n",
    "    \"7th-8th\": 3,\n",
    "    \"9th\": 4,\n",
    "    \"10th\": 5,\n",
    "    \"11th\": 6,\n",
    "    \"12th\": 7,\n",
    "    \"HS-grad\": 8,\n",
    "    \"Some-college\": 9,\n",
    "    \"Assoc-voc\": 10,\n",
    "    \"Assoc-acdm\": 11,\n",
    "    \"Bachelors\": 12,\n",
    "    \"Masters\": 13,\n",
    "    \"Prof-school\": 14,\n",
    "    \"Doctorate\": 15\n",
    "}\n",
    "df[\"education\"] = df[\"education\"].map(education_order)"
   ]
  },
  {
   "cell_type": "code",
   "execution_count": 36,
   "id": "e6420286-e5de-4f44-a93e-4b20ee4c6075",
   "metadata": {},
   "outputs": [],
   "source": [
    "df = pd.get_dummies(df, columns=[\"workclass\"], drop_first=True)"
   ]
  },
  {
   "cell_type": "markdown",
   "id": "43e3ac38-fa45-431b-b171-c6342d47b509",
   "metadata": {},
   "source": [
    "# 6. Финальный обзор данных"
   ]
  },
  {
   "cell_type": "code",
   "execution_count": 28,
   "id": "4f989603-2358-4059-ac4b-049c22ff6d16",
   "metadata": {},
   "outputs": [
    {
     "name": "stdout",
     "output_type": "stream",
     "text": [
      "<class 'pandas.core.frame.DataFrame'>\n",
      "Index: 23499 entries, 0 to 32560\n",
      "Data columns (total 22 columns):\n",
      " #   Column                      Non-Null Count  Dtype  \n",
      "---  ------                      --------------  -----  \n",
      " 0   age                         23499 non-null  float64\n",
      " 1   fnlwgt                      23499 non-null  int64  \n",
      " 2   education                   0 non-null      float64\n",
      " 3   education-num               23499 non-null  float64\n",
      " 4   marital-status              23499 non-null  object \n",
      " 5   occupation                  23499 non-null  object \n",
      " 6   relationship                23499 non-null  object \n",
      " 7   race                        23499 non-null  object \n",
      " 8   sex                         23499 non-null  object \n",
      " 9   capital-gain                23499 non-null  int64  \n",
      " 10  capital-loss                23499 non-null  int64  \n",
      " 11  hours-per-week              23499 non-null  float64\n",
      " 12  native-country              23499 non-null  object \n",
      " 13  income                      23499 non-null  object \n",
      " 14  workclass_Federal-gov       23499 non-null  bool   \n",
      " 15  workclass_Local-gov         23499 non-null  bool   \n",
      " 16  workclass_Never-worked      23499 non-null  bool   \n",
      " 17  workclass_Private           23499 non-null  bool   \n",
      " 18  workclass_Self-emp-inc      23499 non-null  bool   \n",
      " 19  workclass_Self-emp-not-inc  23499 non-null  bool   \n",
      " 20  workclass_State-gov         23499 non-null  bool   \n",
      " 21  workclass_Without-pay       23499 non-null  bool   \n",
      "dtypes: bool(8), float64(4), int64(3), object(7)\n",
      "memory usage: 2.9+ MB\n",
      "None\n",
      "        age  fnlwgt  education  education-num      marital-status  \\\n",
      "0  0.021298   77516        NaN       1.139338       Never-married   \n",
      "2 -0.060734  215646        NaN      -0.436072            Divorced   \n",
      "3  1.169747  234721        NaN      -1.223777  Married-civ-spouse   \n",
      "4 -0.881055  338409        NaN       1.139338  Married-civ-spouse   \n",
      "5 -0.142766  284582        NaN       1.533190  Married-civ-spouse   \n",
      "\n",
      "          occupation   relationship   race     sex  capital-gain  ...  \\\n",
      "0       Adm-clerical  Not-in-family  White    Male          2174  ...   \n",
      "2  Handlers-cleaners  Not-in-family  White    Male             0  ...   \n",
      "3  Handlers-cleaners        Husband  Black    Male             0  ...   \n",
      "4     Prof-specialty           Wife  Black  Female             0  ...   \n",
      "5    Exec-managerial           Wife  White  Female             0  ...   \n",
      "\n",
      "   native-country  income workclass_Federal-gov workclass_Local-gov  \\\n",
      "0   United-States   <=50K                 False               False   \n",
      "2   United-States   <=50K                 False               False   \n",
      "3   United-States   <=50K                 False               False   \n",
      "4            Cuba   <=50K                 False               False   \n",
      "5   United-States   <=50K                 False               False   \n",
      "\n",
      "   workclass_Never-worked  workclass_Private  workclass_Self-emp-inc  \\\n",
      "0                   False              False                   False   \n",
      "2                   False               True                   False   \n",
      "3                   False               True                   False   \n",
      "4                   False               True                   False   \n",
      "5                   False               True                   False   \n",
      "\n",
      "   workclass_Self-emp-not-inc  workclass_State-gov  workclass_Without-pay  \n",
      "0                       False                 True                  False  \n",
      "2                       False                False                  False  \n",
      "3                       False                False                  False  \n",
      "4                       False                False                  False  \n",
      "5                       False                False                  False  \n",
      "\n",
      "[5 rows x 22 columns]\n"
     ]
    }
   ],
   "source": [
    "print(df.info())\n",
    "print(df.head())"
   ]
  },
  {
   "cell_type": "code",
   "execution_count": null,
   "id": "5283349d-aefe-4c12-a781-dad8527f789c",
   "metadata": {},
   "outputs": [],
   "source": []
  }
 ],
 "metadata": {
  "kernelspec": {
   "display_name": "Python 3 (ipykernel)",
   "language": "python",
   "name": "python3"
  },
  "language_info": {
   "codemirror_mode": {
    "name": "ipython",
    "version": 3
   },
   "file_extension": ".py",
   "mimetype": "text/x-python",
   "name": "python",
   "nbconvert_exporter": "python",
   "pygments_lexer": "ipython3",
   "version": "3.9.13"
  }
 },
 "nbformat": 4,
 "nbformat_minor": 5
}
